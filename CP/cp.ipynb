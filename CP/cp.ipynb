{
 "cells": [
  {
   "cell_type": "markdown",
   "metadata": {},
   "source": [
    "# Ejercicios"
   ]
  },
  {
   "cell_type": "markdown",
   "metadata": {},
   "source": [
    "Construye la red de retweets de #RepealThe19th, un controvertido hashtag utilizado durante la campaña presidencial estadounidense de 2016 para abogar por la derogación de la 19ª enmienda de la Constitución estadounidense, que concede a las mujeres el derecho al voto . Los datos para este ejercicio se encuentran en el directorio datasets. El archivo llamado repealthe19th.jsonl.gz incluye:\n",
    "\n",
    "- 23.343 tuits que contienen el hashtag. Cada línea es un objeto JSON de tuit. Después de analizar el archivo, debe verificar que tiene esta cantidad de tweets; una desviación de este número indicaría errores de análisis que podrían afectar sus respuestas.\n",
    "\n",
    "Ten en cuenta lo siguiente en : \n",
    "- (i) La dirección de los enlaces sigue el flujo de información: si Alicia retuitea a Bob, existe un enlace de Bob a Alicia. \n",
    "- (ii) Elimina los auto-bucles; puedes hacerlo después de crear la red, o modificar tu código de creación de red para no añadirlos en absoluto.\n",
    "\n",
    "Y con la red creada, responde las siguientes preguntas:\n",
    "\n",
    "1. ¿Cuántos nodos hay en la red retweet?\n",
    "2. ¿Cuántos enlaces hay en la red retweet?\n",
    "3. ¿Cuál es el nombre de pantalla del nodo con mayor out-strength en la red? ¿Cuál es su out-strength? (La fuerza de salida indica cuánto se ha retuiteado a un usuario (influencia), mientras que la fuerza de entrada muestra cuántos retuits ha hecho (actividad)).\n",
    "4. ¿Cuál es el nombre de pantalla del nodo con la segunda mayor fuerza de salida de la red?\n",
    "sobre su comportamiento en Internet.\n",
    "5. ¿Cuál es el ID del tuit más retuiteado? Utilice el atributo id str; cuando se trabaja con archivos JSON, esta suele ser una buena práctica debido a que los ID de los tweets son de 64 bits. \n",
    "6. ¿Cuántos nodos de la red de retweets tienen fuerza de salida cero?\n",
    "7. ¿Cuál de las siguientes opciones describe mejor la conectividad de esta red?\n",
    "\n",
    "        a.Fuertemente conectada\n",
    "        b.Débilmente conectada\n",
    "        c.Conectada\n",
    "        d.Desconectada\n",
    "8.  ¿Cuántos nodos hay en el mayor componente débilmente conectado de esta red?"
   ]
  },
  {
   "cell_type": "code",
   "execution_count": 2,
   "metadata": {},
   "outputs": [],
   "source": [
    "import networkx as nx\n",
    "import json\n",
    "import gzip\n",
    "from collections import defaultdict\n",
    "from pathlib import Path\n",
    "import pandas as pd\n",
    "import matplotlib.pyplot as plt"
   ]
  },
  {
   "cell_type": "code",
   "execution_count": 3,
   "metadata": {},
   "outputs": [],
   "source": [
    "retweet_edges = []  \n",
    "tweet_counts = defaultdict(int)  \n",
    "most_retweeted = {'id_str': None, 'retweet_count': -1}  "
   ]
  },
  {
   "cell_type": "code",
   "execution_count": 4,
   "metadata": {},
   "outputs": [
    {
     "name": "stdout",
     "output_type": "stream",
     "text": [
      "Total de tweets procesados: 23343\n",
      "Relaciones de retweet encontradas: 14834\n"
     ]
    }
   ],
   "source": [
    "with gzip.open('repealthe19th.jsonl.gz', 'rt', encoding='utf-8') as f:\n",
    "    for line in f:\n",
    "        try:\n",
    "            tweet = json.loads(line)  \n",
    "            tweet_counts['total'] += 1 \n",
    "            \n",
    "            if 'retweeted_status' in tweet:\n",
    "                source = tweet['retweeted_status']['user']['screen_name']\n",
    "                target = tweet['user']['screen_name']\n",
    "                \n",
    "                if source != target:\n",
    "                    retweet_edges.append((source, target))\n",
    "                \n",
    "                if tweet['retweeted_status']['retweet_count'] > most_retweeted['retweet_count']:\n",
    "                    most_retweeted = {\n",
    "                        'id_str': tweet['retweeted_status']['id_str'],\n",
    "                        'retweet_count': tweet['retweeted_status']['retweet_count']\n",
    "                    }\n",
    "            \n",
    "        except json.JSONDecodeError:\n",
    "            continue\n",
    "        \n",
    "print(f\"Total de tweets procesados: {tweet_counts['total']}\")\n",
    "print(f\"Relaciones de retweet encontradas: {len(retweet_edges)}\")"
   ]
  },
  {
   "cell_type": "code",
   "execution_count": 5,
   "metadata": {},
   "outputs": [],
   "source": [
    "G = nx.DiGraph()  \n",
    "G.add_edges_from(retweet_edges)  "
   ]
  },
  {
   "cell_type": "code",
   "execution_count": 6,
   "metadata": {},
   "outputs": [
    {
     "name": "stdout",
     "output_type": "stream",
     "text": [
      "Cantidad de nodos en la red retweet: 14862.\n",
      "Cantidad de enlaces en la red retweet: 14795.\n"
     ]
    }
   ],
   "source": [
    "print(f\"Cantidad de nodos en la red retweet: {G.number_of_nodes()}.\")\n",
    "print(f\"Cantidad de enlaces en la red retweet: {G.number_of_edges()}.\")\n"
   ]
  },
  {
   "cell_type": "code",
   "execution_count": 7,
   "metadata": {},
   "outputs": [
    {
     "name": "stdout",
     "output_type": "stream",
     "text": [
      "Usuario más influyente (mayor out-strength): Samandjunk\n",
      "Número de retweets recibidos (out-strength): 900\n"
     ]
    }
   ],
   "source": [
    "out_strength = dict(G.out_degree(weight='weight'))\n",
    "sorted_out_strength = sorted(out_strength.items(), key=lambda x: x[1], reverse=True)\n",
    "\n",
    "top_user, top_strength = sorted_out_strength[0]\n",
    "\n",
    "print(f\"Usuario más influyente (mayor out-strength): {top_user}\")\n",
    "print(f\"Número de retweets recibidos (out-strength): {top_strength}\")"
   ]
  },
  {
   "cell_type": "code",
   "execution_count": 8,
   "metadata": {},
   "outputs": [
    {
     "name": "stdout",
     "output_type": "stream",
     "text": [
      "Segundo usuario más influyente (mayor out-strength): m_kaish_esq\n",
      "Número de retweets recibidos (out-strength): 394\n"
     ]
    }
   ],
   "source": [
    "top_user, top_strength = sorted_out_strength[1]\n",
    "\n",
    "print(f\"Segundo usuario más influyente (mayor out-strength): {top_user}\")\n",
    "print(f\"Número de retweets recibidos (out-strength): {top_strength}\")"
   ]
  },
  {
   "cell_type": "code",
   "execution_count": 9,
   "metadata": {},
   "outputs": [
    {
     "name": "stdout",
     "output_type": "stream",
     "text": [
      "ID del tuit más retuiteado: 786335044981907456\n"
     ]
    }
   ],
   "source": [
    "print(f\"ID del tuit más retuiteado: {most_retweeted['id_str']}\")"
   ]
  },
  {
   "cell_type": "code",
   "execution_count": 10,
   "metadata": {},
   "outputs": [
    {
     "name": "stdout",
     "output_type": "stream",
     "text": [
      "Cantidad de nodos con out-strength cero: 12916\n"
     ]
    }
   ],
   "source": [
    "zero_out_strength = sum(1 for node in G.nodes() if out_strength.get(node, 0) == 0)\n",
    "\n",
    "print(f\"Cantidad de nodos con out-strength cero: {zero_out_strength}\")"
   ]
  },
  {
   "cell_type": "code",
   "execution_count": 19,
   "metadata": {},
   "outputs": [
    {
     "name": "stdout",
     "output_type": "stream",
     "text": [
      "Conectividad de la red: Desconectada.\n"
     ]
    }
   ],
   "source": [
    "if nx.is_strongly_connected(G):\n",
    "    connectivity = \"Fuertemente conectada\"\n",
    "elif  nx.is_weakly_connected(G):\n",
    "    connectivity = \"Débilmente conectada\"\n",
    "else:\n",
    "    connectivity = \"Desconectada\"\n",
    "\n",
    "print(f\"Conectividad de la red: {connectivity}.\")"
   ]
  },
  {
   "cell_type": "code",
   "execution_count": null,
   "metadata": {},
   "outputs": [
    {
     "name": "stdout",
     "output_type": "stream",
     "text": [
      "Nodos con el mayor componente débilmente conectado: 11909\n"
     ]
    }
   ],
   "source": [
    "components = list(nx.weakly_connected_components(G))\n",
    "largest = max(components, key=len)\n",
    "\n",
    "print(f\"Nodos con el mayor componente débilmente conectado: {len(largest)}\")"
   ]
  }
 ],
 "metadata": {
  "kernelspec": {
   "display_name": "Python 3",
   "language": "python",
   "name": "python3"
  },
  "language_info": {
   "codemirror_mode": {
    "name": "ipython",
    "version": 3
   },
   "file_extension": ".py",
   "mimetype": "text/x-python",
   "name": "python",
   "nbconvert_exporter": "python",
   "pygments_lexer": "ipython3",
   "version": "3.12.3"
  }
 },
 "nbformat": 4,
 "nbformat_minor": 2
}
